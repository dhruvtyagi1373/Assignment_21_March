{
 "cells": [
  {
   "cell_type": "markdown",
   "id": "af5405c0-3a2c-4217-8b84-46715fe9c05f",
   "metadata": {},
   "source": [
    "## Q1. What is the difference between Ordinal Encoding and Label Encoding? Provide an example of when you might choose one over the other."
   ]
  },
  {
   "cell_type": "markdown",
   "id": "0948ecc5-baf4-4cf5-b768-55fb070fe5ad",
   "metadata": {},
   "source": [
    "Label encoding involves assigning a unique numerical label to each category in the variable. The labels are usually assigned in alphabetical order or based on the frequency of the categories."
   ]
  },
  {
   "cell_type": "markdown",
   "id": "c96963da-b573-43cd-8b46-711a918ad3f8",
   "metadata": {},
   "source": [
    "Ordinal Encoding is used to encode categorical data that have an intrinsic order or ranking. In this technique, each category is assigned a numerical value based on its position in the order."
   ]
  },
  {
   "cell_type": "markdown",
   "id": "d8a88ac0-e33f-4874-beaf-add17e2e3056",
   "metadata": {},
   "source": [
    "Eg. When there is a natural order in a category for eg. Degree(Graduate,Post-Graduate,Masters,Phd) ,then I will choose Ordinal Encoding as Phd should be assigned value 1 ,Masters value 2 and so on."
   ]
  },
  {
   "cell_type": "markdown",
   "id": "9ff27fab-a4dc-4f80-baab-69362528eba5",
   "metadata": {},
   "source": [
    "## Q2. Explain how Target Guided Ordinal Encoding works and provide an example of when you might use it in a machine learning project."
   ]
  },
  {
   "cell_type": "markdown",
   "id": "814e594e-048d-4838-8aed-43e3dbbd65d5",
   "metadata": {},
   "source": [
    "In Target Guided Ordinal Encoding, we replace each category in the categorical variable with a numerical value based on the mean or median of the target variable for that category. This creates a monotonic relationship between the categorical variable and the target variable, which can improve the predictive power of our model."
   ]
  },
  {
   "cell_type": "code",
   "execution_count": 2,
   "id": "efa313c0-7479-4a2f-a6d2-00f9a56965ef",
   "metadata": {},
   "outputs": [
    {
     "data": {
      "text/html": [
       "<div>\n",
       "<style scoped>\n",
       "    .dataframe tbody tr th:only-of-type {\n",
       "        vertical-align: middle;\n",
       "    }\n",
       "\n",
       "    .dataframe tbody tr th {\n",
       "        vertical-align: top;\n",
       "    }\n",
       "\n",
       "    .dataframe thead th {\n",
       "        text-align: right;\n",
       "    }\n",
       "</style>\n",
       "<table border=\"1\" class=\"dataframe\">\n",
       "  <thead>\n",
       "    <tr style=\"text-align: right;\">\n",
       "      <th></th>\n",
       "      <th>total_bill</th>\n",
       "      <th>tip</th>\n",
       "      <th>sex</th>\n",
       "      <th>smoker</th>\n",
       "      <th>day</th>\n",
       "      <th>time</th>\n",
       "      <th>size</th>\n",
       "    </tr>\n",
       "  </thead>\n",
       "  <tbody>\n",
       "    <tr>\n",
       "      <th>0</th>\n",
       "      <td>16.99</td>\n",
       "      <td>1.01</td>\n",
       "      <td>Female</td>\n",
       "      <td>No</td>\n",
       "      <td>Sun</td>\n",
       "      <td>Dinner</td>\n",
       "      <td>2</td>\n",
       "    </tr>\n",
       "    <tr>\n",
       "      <th>1</th>\n",
       "      <td>10.34</td>\n",
       "      <td>1.66</td>\n",
       "      <td>Male</td>\n",
       "      <td>No</td>\n",
       "      <td>Sun</td>\n",
       "      <td>Dinner</td>\n",
       "      <td>3</td>\n",
       "    </tr>\n",
       "    <tr>\n",
       "      <th>2</th>\n",
       "      <td>21.01</td>\n",
       "      <td>3.50</td>\n",
       "      <td>Male</td>\n",
       "      <td>No</td>\n",
       "      <td>Sun</td>\n",
       "      <td>Dinner</td>\n",
       "      <td>3</td>\n",
       "    </tr>\n",
       "    <tr>\n",
       "      <th>3</th>\n",
       "      <td>23.68</td>\n",
       "      <td>3.31</td>\n",
       "      <td>Male</td>\n",
       "      <td>No</td>\n",
       "      <td>Sun</td>\n",
       "      <td>Dinner</td>\n",
       "      <td>2</td>\n",
       "    </tr>\n",
       "    <tr>\n",
       "      <th>4</th>\n",
       "      <td>24.59</td>\n",
       "      <td>3.61</td>\n",
       "      <td>Female</td>\n",
       "      <td>No</td>\n",
       "      <td>Sun</td>\n",
       "      <td>Dinner</td>\n",
       "      <td>4</td>\n",
       "    </tr>\n",
       "  </tbody>\n",
       "</table>\n",
       "</div>"
      ],
      "text/plain": [
       "   total_bill   tip     sex smoker  day    time  size\n",
       "0       16.99  1.01  Female     No  Sun  Dinner     2\n",
       "1       10.34  1.66    Male     No  Sun  Dinner     3\n",
       "2       21.01  3.50    Male     No  Sun  Dinner     3\n",
       "3       23.68  3.31    Male     No  Sun  Dinner     2\n",
       "4       24.59  3.61  Female     No  Sun  Dinner     4"
      ]
     },
     "execution_count": 2,
     "metadata": {},
     "output_type": "execute_result"
    }
   ],
   "source": [
    "import seaborn as sns\n",
    "df = sns.load_dataset('tips')\n",
    "df.head()"
   ]
  },
  {
   "cell_type": "markdown",
   "id": "ca10f912-3048-437c-b3b0-dba685e8c95f",
   "metadata": {},
   "source": [
    "Eg. I will use Target Guided Ordinal Encoding in this to encode time feature with the help of target feature total_bill."
   ]
  },
  {
   "cell_type": "markdown",
   "id": "93b25f6d-1f34-4150-96a9-0c020620bf88",
   "metadata": {},
   "source": [
    "## Q3. Define covariance and explain why it is important in statistical analysis. How is covariance calculated?"
   ]
  },
  {
   "cell_type": "markdown",
   "id": "b2850007-e5bc-4339-8317-1054a82e7f64",
   "metadata": {},
   "source": [
    "Covariance provides the a measure of strength of correlation between two variable or more set of variables.\n",
    "It is important in statistical analysis because it is used to find how two or more features are related to each other and how increasing or decreasing value of one feature affects other feature."
   ]
  },
  {
   "cell_type": "markdown",
   "id": "845b0096-d07e-4214-bcbe-adccdaafe728",
   "metadata": {},
   "source": [
    "Formula : \n",
    "cov(x,y) = np.cov(x,y)"
   ]
  },
  {
   "cell_type": "markdown",
   "id": "f969be80-ae1e-4399-904c-5d1f2e86bc5a",
   "metadata": {},
   "source": [
    "## Q4. For a dataset with the following categorical variables: Color (red, green, blue), Size (small, medium,large), and Material (wood, metal, plastic), perform label encoding using Python's scikit-learn library.Show your code and explain the output."
   ]
  },
  {
   "cell_type": "code",
   "execution_count": 5,
   "id": "f50d52a7-ae44-485c-a048-4fe284dbc979",
   "metadata": {},
   "outputs": [],
   "source": [
    "import pandas as pd\n",
    "df = pd.DataFrame({'Color':['red','green','blue'],\n",
    "                  'Size':['small','medium','large'],\n",
    "                  'Material':['wood','metal','plastic']})"
   ]
  },
  {
   "cell_type": "code",
   "execution_count": 6,
   "id": "beed9fd8-71e3-4be7-bd49-8bae1eaed8ac",
   "metadata": {},
   "outputs": [
    {
     "data": {
      "text/html": [
       "<div>\n",
       "<style scoped>\n",
       "    .dataframe tbody tr th:only-of-type {\n",
       "        vertical-align: middle;\n",
       "    }\n",
       "\n",
       "    .dataframe tbody tr th {\n",
       "        vertical-align: top;\n",
       "    }\n",
       "\n",
       "    .dataframe thead th {\n",
       "        text-align: right;\n",
       "    }\n",
       "</style>\n",
       "<table border=\"1\" class=\"dataframe\">\n",
       "  <thead>\n",
       "    <tr style=\"text-align: right;\">\n",
       "      <th></th>\n",
       "      <th>Color</th>\n",
       "      <th>Size</th>\n",
       "      <th>Material</th>\n",
       "    </tr>\n",
       "  </thead>\n",
       "  <tbody>\n",
       "    <tr>\n",
       "      <th>0</th>\n",
       "      <td>red</td>\n",
       "      <td>small</td>\n",
       "      <td>wood</td>\n",
       "    </tr>\n",
       "    <tr>\n",
       "      <th>1</th>\n",
       "      <td>green</td>\n",
       "      <td>medium</td>\n",
       "      <td>metal</td>\n",
       "    </tr>\n",
       "    <tr>\n",
       "      <th>2</th>\n",
       "      <td>blue</td>\n",
       "      <td>large</td>\n",
       "      <td>plastic</td>\n",
       "    </tr>\n",
       "  </tbody>\n",
       "</table>\n",
       "</div>"
      ],
      "text/plain": [
       "   Color    Size Material\n",
       "0    red   small     wood\n",
       "1  green  medium    metal\n",
       "2   blue   large  plastic"
      ]
     },
     "execution_count": 6,
     "metadata": {},
     "output_type": "execute_result"
    }
   ],
   "source": [
    "df"
   ]
  },
  {
   "cell_type": "code",
   "execution_count": 7,
   "id": "8e605877-08dc-4aa6-bbda-b5dc7b8b58b0",
   "metadata": {},
   "outputs": [],
   "source": [
    "from sklearn.preprocessing import LabelEncoder\n",
    "lbl_encoder = LabelEncoder()"
   ]
  },
  {
   "cell_type": "code",
   "execution_count": 9,
   "id": "ba04a9d5-05ec-4f52-af5b-19ad68f2dd3d",
   "metadata": {},
   "outputs": [
    {
     "name": "stderr",
     "output_type": "stream",
     "text": [
      "/opt/conda/lib/python3.10/site-packages/sklearn/preprocessing/_label.py:116: DataConversionWarning: A column-vector y was passed when a 1d array was expected. Please change the shape of y to (n_samples, ), for example using ravel().\n",
      "  y = column_or_1d(y, warn=True)\n"
     ]
    }
   ],
   "source": [
    "color_encoded = lbl_encoder.fit_transform(df[['Color']])"
   ]
  },
  {
   "cell_type": "code",
   "execution_count": 10,
   "id": "cdbc5b40-5392-4d9a-965b-45a8e15a42b2",
   "metadata": {},
   "outputs": [
    {
     "data": {
      "text/plain": [
       "array([2, 1, 0])"
      ]
     },
     "execution_count": 10,
     "metadata": {},
     "output_type": "execute_result"
    }
   ],
   "source": [
    "color_encoded"
   ]
  },
  {
   "cell_type": "markdown",
   "id": "0c93c63a-e2e2-4320-9008-31635b688bf9",
   "metadata": {},
   "source": [
    "Red is assigned numerical value 2,Green :1 and blue:0 based on the alphabetical order in the LabelEncoding of Feature Color."
   ]
  },
  {
   "cell_type": "markdown",
   "id": "456b5db7-bb2b-46d3-806f-7d8d7835d92b",
   "metadata": {},
   "source": [
    "## Q5. Calculate the covariance matrix for the following variables in a dataset: Age, Income, and Education level. Interpret the results."
   ]
  },
  {
   "cell_type": "code",
   "execution_count": 11,
   "id": "532293a7-ea06-482f-a3c0-d1e4883d72ec",
   "metadata": {},
   "outputs": [],
   "source": [
    "df1 = pd.DataFrame({'Age':[32,45,25,28],\n",
    "                   'Income':[45000,30000,60000,55000],\n",
    "                   'Education_Level':['Post_Graduate','Graduate','Phd','Masters']})"
   ]
  },
  {
   "cell_type": "code",
   "execution_count": 13,
   "id": "bb48031c-3d14-4102-9faf-bb517284ee13",
   "metadata": {},
   "outputs": [
    {
     "name": "stderr",
     "output_type": "stream",
     "text": [
      "/tmp/ipykernel_168/3142585312.py:1: FutureWarning: The default value of numeric_only in DataFrame.cov is deprecated. In a future version, it will default to False. Select only valid columns or specify the value of numeric_only to silence this warning.\n",
      "  df1.cov()\n"
     ]
    },
    {
     "data": {
      "text/html": [
       "<div>\n",
       "<style scoped>\n",
       "    .dataframe tbody tr th:only-of-type {\n",
       "        vertical-align: middle;\n",
       "    }\n",
       "\n",
       "    .dataframe tbody tr th {\n",
       "        vertical-align: top;\n",
       "    }\n",
       "\n",
       "    .dataframe thead th {\n",
       "        text-align: right;\n",
       "    }\n",
       "</style>\n",
       "<table border=\"1\" class=\"dataframe\">\n",
       "  <thead>\n",
       "    <tr style=\"text-align: right;\">\n",
       "      <th></th>\n",
       "      <th>Age</th>\n",
       "      <th>Income</th>\n",
       "    </tr>\n",
       "  </thead>\n",
       "  <tbody>\n",
       "    <tr>\n",
       "      <th>Age</th>\n",
       "      <td>77.666667</td>\n",
       "      <td>-115000.0</td>\n",
       "    </tr>\n",
       "    <tr>\n",
       "      <th>Income</th>\n",
       "      <td>-115000.000000</td>\n",
       "      <td>175000000.0</td>\n",
       "    </tr>\n",
       "  </tbody>\n",
       "</table>\n",
       "</div>"
      ],
      "text/plain": [
       "                  Age       Income\n",
       "Age         77.666667    -115000.0\n",
       "Income -115000.000000  175000000.0"
      ]
     },
     "execution_count": 13,
     "metadata": {},
     "output_type": "execute_result"
    }
   ],
   "source": [
    "df1.cov()"
   ]
  },
  {
   "cell_type": "markdown",
   "id": "199f02ed-cd58-469b-be2d-5f552f5bc53a",
   "metadata": {},
   "source": [
    "Based on the Output,as Age increases Income Decreases as they are highly negatively correlated."
   ]
  },
  {
   "cell_type": "markdown",
   "id": "1270306e-a024-40d5-ab74-46a4ca26f1a5",
   "metadata": {},
   "source": [
    "## Q6. You are working on a machine learning project with a dataset containing several categorical variables, including \"Gender\" (Male/Female), \"Education Level\" (High School/Bachelor's/Master's/PhD),and \"Employment Status\" (Unemployed/Part-Time/Full-Time). Which encoding method would you use for each variable, and why?"
   ]
  },
  {
   "cell_type": "markdown",
   "id": "15b6e271-dd17-4851-9206-c85fbfe1a1d0",
   "metadata": {},
   "source": [
    "I would use One Hot Encoding for Gender because there there is only two categoriesis i.e. Male,Feamle.So whenever there is a Male 1 is assigned and Female 0 and Whenever there is a Female 1 is assigned and male 0 by creating two new features ."
   ]
  },
  {
   "cell_type": "markdown",
   "id": "32187d77-f46e-4d89-bbc3-8b49d7eb3af6",
   "metadata": {},
   "source": [
    "I would use Ordinal Encoding for Education Level as Phd should be given maximum numerical value as compared to other categories as it is greater than other categories and likewise for Master's 2,Bachelor's 1 and School 0."
   ]
  },
  {
   "cell_type": "markdown",
   "id": "a4bdd131-5a6e-48de-9f93-73e878e79be2",
   "metadata": {},
   "source": [
    "I would use OneHot Encoding for Employment status because there are only three categories so new three new features would be created with encoded data."
   ]
  },
  {
   "cell_type": "markdown",
   "id": "5ee4a8d9-b340-4961-86b4-7f663d33b97a",
   "metadata": {},
   "source": [
    "## Q7. You are analyzing a dataset with two continuous variables, \"Temperature\" and \"Humidity\", and two categorical variables, \"Weather Condition\" (Sunny/Cloudy/Rainy) and \"Wind Direction\" (North/South/East/West). Calculate the covariance between each pair of variables and interpret the results."
   ]
  },
  {
   "cell_type": "code",
   "execution_count": 14,
   "id": "366edce4-05fa-4879-93eb-b516b66c0821",
   "metadata": {},
   "outputs": [],
   "source": [
    "df2 = pd.DataFrame({'Temperature(in C)':[42,35,20,28],\n",
    "                   'Humidity':[45,37,18,10],\n",
    "                   'Weather_Condition':['Sunny','Cloudy','Rainy','Cloudy'],\n",
    "                   'Wind Direction':['North','South','East','West']})"
   ]
  },
  {
   "cell_type": "code",
   "execution_count": 15,
   "id": "c881fbef-784a-43e8-8a54-e85a73fa640c",
   "metadata": {},
   "outputs": [
    {
     "name": "stderr",
     "output_type": "stream",
     "text": [
      "/tmp/ipykernel_168/3825087732.py:1: FutureWarning: The default value of numeric_only in DataFrame.cov is deprecated. In a future version, it will default to False. Select only valid columns or specify the value of numeric_only to silence this warning.\n",
      "  df2.cov()\n"
     ]
    },
    {
     "data": {
      "text/html": [
       "<div>\n",
       "<style scoped>\n",
       "    .dataframe tbody tr th:only-of-type {\n",
       "        vertical-align: middle;\n",
       "    }\n",
       "\n",
       "    .dataframe tbody tr th {\n",
       "        vertical-align: top;\n",
       "    }\n",
       "\n",
       "    .dataframe thead th {\n",
       "        text-align: right;\n",
       "    }\n",
       "</style>\n",
       "<table border=\"1\" class=\"dataframe\">\n",
       "  <thead>\n",
       "    <tr style=\"text-align: right;\">\n",
       "      <th></th>\n",
       "      <th>Temperature(in C)</th>\n",
       "      <th>Humidity</th>\n",
       "    </tr>\n",
       "  </thead>\n",
       "  <tbody>\n",
       "    <tr>\n",
       "      <th>Temperature(in C)</th>\n",
       "      <td>88.916667</td>\n",
       "      <td>129.166667</td>\n",
       "    </tr>\n",
       "    <tr>\n",
       "      <th>Humidity</th>\n",
       "      <td>129.166667</td>\n",
       "      <td>264.333333</td>\n",
       "    </tr>\n",
       "  </tbody>\n",
       "</table>\n",
       "</div>"
      ],
      "text/plain": [
       "                   Temperature(in C)    Humidity\n",
       "Temperature(in C)          88.916667  129.166667\n",
       "Humidity                  129.166667  264.333333"
      ]
     },
     "execution_count": 15,
     "metadata": {},
     "output_type": "execute_result"
    }
   ],
   "source": [
    "df2.cov()"
   ]
  },
  {
   "cell_type": "markdown",
   "id": "8a510efe-05e6-40db-ba19-f89205dc62b6",
   "metadata": {},
   "source": [
    "Based on the Output,as temperature increases Humidity also increases as They are highly positively correlated."
   ]
  },
  {
   "cell_type": "code",
   "execution_count": null,
   "id": "89d022b8-ac4d-4a1a-bd28-421cecf1a3f3",
   "metadata": {},
   "outputs": [],
   "source": []
  },
  {
   "cell_type": "code",
   "execution_count": null,
   "id": "ef94e00b-e1a4-4c26-b8ef-afffb6aa7d52",
   "metadata": {},
   "outputs": [],
   "source": []
  },
  {
   "cell_type": "code",
   "execution_count": null,
   "id": "1e8fc3b3-7a4d-40da-8249-87469594be85",
   "metadata": {},
   "outputs": [],
   "source": []
  },
  {
   "cell_type": "code",
   "execution_count": null,
   "id": "eb02c5c3-f32a-4aac-9667-7553506ad4ff",
   "metadata": {},
   "outputs": [],
   "source": []
  },
  {
   "cell_type": "code",
   "execution_count": null,
   "id": "9316a093-5dbd-43d4-a493-699c45feaf89",
   "metadata": {},
   "outputs": [],
   "source": []
  }
 ],
 "metadata": {
  "kernelspec": {
   "display_name": "Python 3 (ipykernel)",
   "language": "python",
   "name": "python3"
  },
  "language_info": {
   "codemirror_mode": {
    "name": "ipython",
    "version": 3
   },
   "file_extension": ".py",
   "mimetype": "text/x-python",
   "name": "python",
   "nbconvert_exporter": "python",
   "pygments_lexer": "ipython3",
   "version": "3.10.8"
  }
 },
 "nbformat": 4,
 "nbformat_minor": 5
}
